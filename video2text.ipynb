{
  "nbformat": 4,
  "nbformat_minor": 0,
  "metadata": {
    "colab": {
      "provenance": []
    },
    "kernelspec": {
      "name": "python3",
      "display_name": "Python 3"
    },
    "language_info": {
      "name": "python"
    }
  },
  "cells": [
    {
      "cell_type": "code",
      "execution_count": null,
      "metadata": {
        "id": "39_Jxm7vkHt5"
      },
      "outputs": [],
      "source": [
        "!pip install openai\n",
        "!pip install -U openai-whisper\n",
        "!pip install langchain\n",
        "!pip install pytube"
      ]
    },
    {
      "cell_type": "code",
      "source": [
        "import pytube as pt\n",
        "yt=pt.YouTube(\"https://www.youtube.com/watch?v=hTfTsImtRxA\")\n",
        "stream=yt.streams.filter(only_audio=True)[0]\n",
        "stream.download(filename=\"yt_audio.mp3\")"
      ],
      "metadata": {
        "id": "QOlyIQrvkg8k"
      },
      "execution_count": null,
      "outputs": []
    },
    {
      "cell_type": "code",
      "source": [
        "import whisper\n",
        "model = whisper.load_model(\"base\")\n",
        "result = model.transcribe(\"yt_audio.mp3\")\n",
        "text = result['text']\n",
        "print(text)"
      ],
      "metadata": {
        "id": "WWomNziilWen"
      },
      "execution_count": null,
      "outputs": []
    },
    {
      "cell_type": "code",
      "source": [
        "from langchain import OpenAI, LLMChain\n",
        "from langchain.chains.summerize import load_summerize_chain\n",
        "from langchain.splitter import RecursiveCharacterTextSplitter"
      ],
      "metadata": {
        "id": "wnxQTV6SlWbG"
      },
      "execution_count": null,
      "outputs": []
    },
    {
      "cell_type": "code",
      "source": [
        "llm = OpenAI(model_name='text-davinci-003',openai_api_key = 'key')"
      ],
      "metadata": {
        "id": "ffMivH3QlWYf"
      },
      "execution_count": null,
      "outputs": []
    },
    {
      "cell_type": "code",
      "source": [
        "text_splitter = RecursiveCharacterTextSplitter(\n",
        "    chunk_size=1000, chunk_overlap=0, separators=[\" \",\",\",\"\\n\"]\n",
        ")"
      ],
      "metadata": {
        "id": "uItRqxrvlWVe"
      },
      "execution_count": null,
      "outputs": []
    },
    {
      "cell_type": "code",
      "source": [
        "texts = text_splitter.split_text(text)\n",
        "print(texts)"
      ],
      "metadata": {
        "id": "9NLxzGqTlWSf"
      },
      "execution_count": null,
      "outputs": []
    },
    {
      "cell_type": "code",
      "source": [
        "docs = text_splitter.create_documents(text)\n",
        "print(docs)\n",
        "chain = load_summerize_chain(llm, chain_type = \"map_reduce\")"
      ],
      "metadata": {
        "id": "mjGHWeSelWGC"
      },
      "execution_count": null,
      "outputs": []
    },
    {
      "cell_type": "code",
      "source": [
        "output_summary = chain.run(docs)"
      ],
      "metadata": {
        "id": "voYWbyhonq6l"
      },
      "execution_count": null,
      "outputs": []
    }
  ]
}